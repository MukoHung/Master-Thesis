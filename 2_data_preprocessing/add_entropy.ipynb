{
 "cells": [
  {
   "cell_type": "code",
   "execution_count": 19,
   "metadata": {},
   "outputs": [],
   "source": [
    "import collections\n",
    "import json\n",
    "import math"
   ]
  },
  {
   "cell_type": "code",
   "execution_count": 26,
   "metadata": {},
   "outputs": [],
   "source": [
    "def estimate_shannon_entropy(data):\n",
    "    m = len(data)\n",
    "    bases = collections.Counter([tmp_base for tmp_base in data])\n",
    "    \n",
    "    shannon_entropy_value = 0\n",
    "    for base in bases:\n",
    "        # number of residues\n",
    "        n_i = bases[base]\n",
    "        # n_i (# residues type i) / M (# residues in column)\n",
    "        p_i = n_i / float(m)\n",
    "        entropy_i = p_i * (math.log(p_i, 10))\n",
    "        shannon_entropy_value += entropy_i\n",
    "\n",
    "    return shannon_entropy_value * -1"
   ]
  },
  {
   "cell_type": "code",
   "execution_count": 27,
   "metadata": {},
   "outputs": [],
   "source": [
    "def data_size(data):\n",
    "    return len(data)"
   ]
  },
  {
   "cell_type": "code",
   "execution_count": 28,
   "metadata": {},
   "outputs": [],
   "source": [
    "with open(\".\\\\ben_features.json\") as f:\n",
    "        data = json.loads(f.read())\n",
    "\n",
    "for key in data:\n",
    "    with open(\"..\\\\1_raw_benign_scripts\\\\\" + key, encoding=\"ISO-8859-1\") as f:\n",
    "        raw_context = f.read()\n",
    "        \n",
    "    # size = data_size(raw_context)\n",
    "    # data[key].append(size)\n",
    "\n",
    "    entropy = estimate_shannon_entropy(raw_context)\n",
    "    data[key].append(round(entropy, 5))\n",
    "\n",
    "with open('ben_features_new.json', 'w') as f:\n",
    "    f.write(json.dumps(data))\n"
   ]
  },
  {
   "cell_type": "code",
   "execution_count": 29,
   "metadata": {},
   "outputs": [],
   "source": [
    "with open(\".\\\\mal_features.json\") as f:\n",
    "        data = json.loads(f.read())\n",
    "\n",
    "for key in data:\n",
    "    with open(\"..\\\\1_raw_malicious_scripts\\\\\" + key, encoding=\"ISO-8859-1\") as f:\n",
    "        raw_context = f.read()\n",
    "\n",
    "    # size = data_size(raw_context)\n",
    "    # data[key].append(size)\n",
    "    \n",
    "    entropy = estimate_shannon_entropy(raw_context)\n",
    "    data[key].append(round(entropy, 5))\n",
    "\n",
    "with open('mal_features_new.json', 'w') as f:\n",
    "    f.write(json.dumps(data))"
   ]
  },
  {
   "cell_type": "code",
   "execution_count": null,
   "metadata": {},
   "outputs": [],
   "source": []
  }
 ],
 "metadata": {
  "interpreter": {
   "hash": "8dc9504be67acba47bacf60bff7f553f62706ea7a10aa24f4f54855ef6b1dd44"
  },
  "kernelspec": {
   "display_name": "Python 3.9.5 64-bit",
   "language": "python",
   "name": "python3"
  },
  "language_info": {
   "codemirror_mode": {
    "name": "ipython",
    "version": 3
   },
   "file_extension": ".py",
   "mimetype": "text/x-python",
   "name": "python",
   "nbconvert_exporter": "python",
   "pygments_lexer": "ipython3",
   "version": "3.9.5"
  },
  "orig_nbformat": 4
 },
 "nbformat": 4,
 "nbformat_minor": 2
}
