{
 "cells": [
  {
   "cell_type": "code",
   "execution_count": 1,
   "metadata": {},
   "outputs": [
    {
     "name": "stderr",
     "output_type": "stream",
     "text": [
      "C:\\Users\\alice\\AppData\\Local\\Programs\\Python\\Python39\\lib\\site-packages\\xgboost\\compat.py:36: FutureWarning: pandas.Int64Index is deprecated and will be removed from pandas in a future version. Use pandas.Index with the appropriate dtype instead.\n",
      "  from pandas import MultiIndex, Int64Index\n"
     ]
    }
   ],
   "source": [
    "import math\n",
    "import pickle\n",
    "import pandas as pd\n",
    "import numpy as np\n",
    "from matplotlib import pyplot\n",
    "import matplotlib.pyplot as plt\n",
    "from xgboost import XGBClassifier\n",
    "from xgboost import plot_importance\n",
    "from sklearn.model_selection import train_test_split\n",
    "from sklearn.metrics import confusion_matrix, accuracy_score, precision_score, recall_score, f1_score, log_loss, roc_auc_score, plot_confusion_matrix\n",
    "from sklearn.preprocessing import LabelEncoder, StandardScaler"
   ]
  },
  {
   "cell_type": "code",
   "execution_count": 7,
   "metadata": {},
   "outputs": [],
   "source": [
    "file_name = \"unseen_xgb_reg.pkl\"\n",
    "xgb_model_loaded = pickle.load(open(file_name, \"rb\"))\n"
   ]
  },
  {
   "cell_type": "code",
   "execution_count": 3,
   "metadata": {},
   "outputs": [],
   "source": [
    "# TEST_dataset = pd.read_csv(\"..\\\\5_test_dataset\\\\scripts.csv\")\n",
    "# X_TEST = TEST_dataset.iloc[:, 1:-1].values\n",
    "# y_TEST = TEST_dataset.iloc[:, -1].values\n"
   ]
  },
  {
   "cell_type": "code",
   "execution_count": 11,
   "metadata": {},
   "outputs": [
    {
     "name": "stdout",
     "output_type": "stream",
     "text": [
      "0                       757\n",
      "Mimikatz                 10\n",
      "Mimikittenz               8\n",
      "CobaltStrike              6\n",
      "Nishang                   6\n",
      "PowerSploit               6\n",
      "PowerfunBind              5\n",
      "PowerDump                 4\n",
      "PowerfunReverse           4\n",
      "PowerShellEmpire          4\n",
      "PowerSploitPowerView      3\n",
      "Invoke                    3\n",
      "SET                       3\n",
      "ICMPShell                 3\n",
      "PoshC2                    1\n",
      "Name: KnownMalware, dtype: int64\n",
      "0     757\n",
      "6      10\n",
      "7       8\n",
      "1       6\n",
      "8       6\n",
      "12      6\n",
      "15      5\n",
      "10      4\n",
      "16      4\n",
      "11      4\n",
      "13      3\n",
      "3       3\n",
      "18      3\n",
      "2       3\n",
      "9       1\n",
      "Name: KnownMalware, dtype: int64\n",
      "['F1 : OneLiner', 'F2 : VariableExtension', 'F3 : AbnormalSize', 'F4 : Obfuscation', 'F5 : Entropy', 'F6 : PositiveContext', 'F7 : ScriptLogging', 'F8 : FunctionBody', 'F9 : License', 'F10 : Downloader', 'F11 : StartsProcess', 'F12 : ScriptExecution', 'F13 : Crypto', 'F14 : Enumeration', 'F15 : HiddenWindow', 'F16 : CustomWebFields', 'F17 : Persistence', 'F18 : Registry', 'F19 : Sleeps', 'F20 : SysInternals', 'F21 : Compression', 'F22 : UninstallsApps', 'F23 : ByteUsage', 'F24 : NegativeContext', 'F25 : KnownMalware', 'F26 : CodeInjection', 'F27 : DNSC2', 'F28 : AppLockerBypass', 'F29 : AMSIBypass', 'F30 : EmbeddedFile', 'F31 : ClearLogs', 'F32 : DisabledProtections', 'F33 : ScreenScraping']\n"
     ]
    }
   ],
   "source": [
    "# TEST_dataset = pd.read_csv(\"..\\\\5_test_dataset\\\\123.csv\")\n",
    "TEST_dataset = pd.read_csv(\"..\\\\5_test_dataset\\\\NEW_scripts.csv\")\n",
    "\n",
    "\n",
    "print(TEST_dataset[\"KnownMalware\"].value_counts())\n",
    "\n",
    "\n",
    "TEST_dataset.loc[(TEST_dataset.Obfuscation == '0'), 'Obfuscation'] = 0\n",
    "TEST_dataset.loc[(TEST_dataset.Obfuscation == 'CharFrequency'), 'Obfuscation'] = 1\n",
    "TEST_dataset.loc[(TEST_dataset.Obfuscation == 'HighVariable'), 'Obfuscation'] = 4\n",
    "TEST_dataset.loc[(TEST_dataset.Obfuscation == 'dominant'), 'Obfuscation'] = 5\n",
    "TEST_dataset.loc[(TEST_dataset.Obfuscation == 'HighSymbol'), 'Obfuscation'] = 3\n",
    "TEST_dataset.loc[(TEST_dataset.Obfuscation == 'HiddenCommands'), 'Obfuscation'] = 2\n",
    "\n",
    "TEST_dataset.loc[(TEST_dataset.KnownMalware == '0'), 'KnownMalware'] = 0\n",
    "TEST_dataset.loc[(TEST_dataset.KnownMalware == 'ShellcodeInjector'), 'KnownMalware'] = 19\n",
    "TEST_dataset.loc[(TEST_dataset.KnownMalware == 'MagicUnicorn'), 'KnownMalware'] = 4\n",
    "TEST_dataset.loc[(TEST_dataset.KnownMalware == 'PowerShellEmpire'), 'KnownMalware'] = 11\n",
    "TEST_dataset.loc[(TEST_dataset.KnownMalware == 'SET'), 'KnownMalware'] = 18\n",
    "TEST_dataset.loc[(TEST_dataset.KnownMalware == 'PowerfunReverse'), 'KnownMalware'] = 16\n",
    "TEST_dataset.loc[(TEST_dataset.KnownMalware == 'PowerWorm'), 'KnownMalware'] = 14\n",
    "TEST_dataset.loc[(TEST_dataset.KnownMalware == 'MagicUnicornModified'), 'KnownMalware'] = 5\n",
    "TEST_dataset.loc[(TEST_dataset.KnownMalware == 'TXTC2'), 'KnownMalware'] = 20\n",
    "TEST_dataset.loc[(TEST_dataset.KnownMalware == 'VeilStream'), 'KnownMalware'] = 21\n",
    "TEST_dataset.loc[(TEST_dataset.KnownMalware == 'PowerSploit'), 'KnownMalware'] =12\n",
    "TEST_dataset.loc[(TEST_dataset.KnownMalware == 'Mimikatz'), 'KnownMalware'] = 6\n",
    "TEST_dataset.loc[(TEST_dataset.KnownMalware == 'RemoteDLL'), 'KnownMalware'] = 17\n",
    "TEST_dataset.loc[(TEST_dataset.KnownMalware == 'Mimikittenz'), 'KnownMalware'] = 7\n",
    "TEST_dataset.loc[(TEST_dataset.KnownMalware == 'Nishang'), 'KnownMalware'] = 8\n",
    "TEST_dataset.loc[(TEST_dataset.KnownMalware == 'ICMPShell'), 'KnownMalware'] = 2\n",
    "TEST_dataset.loc[(TEST_dataset.KnownMalware == 'CobaltStrike'), 'KnownMalware'] = 1\n",
    "TEST_dataset.loc[(TEST_dataset.KnownMalware == 'Invoke'), 'KnownMalware'] = 3\n",
    "TEST_dataset.loc[(TEST_dataset.KnownMalware == 'PowerfunBind'), 'KnownMalware'] = 15\n",
    "TEST_dataset.loc[(TEST_dataset.KnownMalware == 'PowerDump'), 'KnownMalware'] = 10\n",
    "TEST_dataset.loc[(TEST_dataset.KnownMalware == 'PoshC2'), 'KnownMalware'] = 9\n",
    "TEST_dataset.loc[(TEST_dataset.KnownMalware == 'PowerSploitPowerView'), 'KnownMalware'] = 13\n",
    "\n",
    "print(TEST_dataset[\"KnownMalware\"].value_counts())\n",
    "\n",
    "X_TEST = TEST_dataset.iloc[:, 1:-1].values\n",
    "y_test = TEST_dataset.iloc[:, -1].values\n",
    "\n",
    "\n",
    "sc = pickle.load(open('unseen_scaler.pkl','rb'))\n",
    "X_TEST = sc.transform(X_TEST)\n",
    "\n",
    "feature_name = []\n",
    "count = 1\n",
    "for n in TEST_dataset.columns[1:-1]:\n",
    "    fea = \"F\"+ str(count) +\" : \" + n\n",
    "    feature_name.append(fea)\n",
    "    count += 1\n",
    "\n",
    "print(feature_name)\n"
   ]
  },
  {
   "cell_type": "code",
   "execution_count": 12,
   "metadata": {},
   "outputs": [
    {
     "name": "stdout",
     "output_type": "stream",
     "text": [
      "0000000000000000000000000000000000000000000000000000000000000000000000000000000000000000000000000000000000000000000000000000000000000000000000000000000000000000000000000000000000000000000000000000000000000000000000000000000000000000000000000000000000000000000000000000000000000000000000000000000000000000000000000000000000000000000000000000000000000000000000000000000000000000000000000000000000000000000000000011001111000101010110111111111101000011111110101100111011011111011111001011101110111011101011101011111011111111111110010111100011111101011111111001011101110111001101111101011111110110100001010111011110111011100011101101101011111011111100110100111111011110111010000101001111111111101111101011101101011011111011110111111101110100100011011000011011000110111111111111101100110011100111111111111111011001111111111010111\n"
     ]
    }
   ],
   "source": [
    "y_pred = xgb_model_loaded.predict(X_TEST)\n",
    "c=\"\"\n",
    "for n  in y_pred:\n",
    "   c += str(n)\n",
    "print(c) "
   ]
  },
  {
   "cell_type": "code",
   "execution_count": 13,
   "metadata": {},
   "outputs": [
    {
     "name": "stdout",
     "output_type": "stream",
     "text": [
      "Accuracy: 85.18%\n",
      "Precision: 100.00%\n",
      "Recall: 70.46%\n",
      "F1_Score: 82.67%\n",
      "Log loss: 5.119964\n",
      "AUC: 85.23%\n",
      "[[410   0]\n",
      " [122 291]]\n"
     ]
    },
    {
     "name": "stderr",
     "output_type": "stream",
     "text": [
      "C:\\Users\\alice\\AppData\\Local\\Programs\\Python\\Python39\\lib\\site-packages\\sklearn\\utils\\deprecation.py:87: FutureWarning: Function plot_confusion_matrix is deprecated; Function `plot_confusion_matrix` is deprecated in 1.0 and will be removed in 1.2. Use one of the class methods: ConfusionMatrixDisplay.from_predictions or ConfusionMatrixDisplay.from_estimator.\n",
      "  warnings.warn(msg, category=FutureWarning)\n"
     ]
    },
    {
     "data": {
      "text/plain": [
       "<sklearn.metrics._plot.confusion_matrix.ConfusionMatrixDisplay at 0x246bd7fd6a0>"
      ]
     },
     "execution_count": 13,
     "metadata": {},
     "output_type": "execute_result"
    },
    {
     "data": {
      "image/png": "[encoded data removed]",
      "text/plain": [
       "<Figure size 432x288 with 2 Axes>"
      ]
     },
     "metadata": {
      "needs_background": "light"
     },
     "output_type": "display_data"
    }
   ],
   "source": [
    "# evaluate predictions\n",
    "accuracy = accuracy_score(y_test, y_pred)\n",
    "print(\"Accuracy: %.2f%%\" % (accuracy * 100.0))\n",
    "\n",
    "precision = precision_score(y_test, y_pred)\n",
    "print(\"Precision: %.2f%%\" % (precision * 100.0))\n",
    "\n",
    "recall = recall_score(y_test, y_pred)\n",
    "print(\"Recall: %.2f%%\" % (recall * 100.0))\n",
    "\n",
    "f1 = f1_score(y_test, y_pred)\n",
    "print(\"F1_Score: %.2f%%\" % (f1 * 100.0))\n",
    "\n",
    "logloss = log_loss(y_test, y_pred)\n",
    "print(\"Log loss: %f\" % logloss)\n",
    "\n",
    "AUC = roc_auc_score(y_test, y_pred)\n",
    "print(\"AUC: %.2f%%\" % (AUC * 100.0))\n",
    "\n",
    "print(confusion_matrix(y_test, y_pred))\n",
    "\n",
    "plot_confusion_matrix(xgb_model_loaded, X_TEST, y_test)"
   ]
  },
  {
   "cell_type": "code",
   "execution_count": null,
   "metadata": {},
   "outputs": [],
   "source": []
  }
 ],
 "metadata": {
  "interpreter": {
   "hash": "8dc9504be67acba47bacf60bff7f553f62706ea7a10aa24f4f54855ef6b1dd44"
  },
  "kernelspec": {
   "display_name": "Python 3.9.5 64-bit",
   "language": "python",
   "name": "python3"
  },
  "language_info": {
   "codemirror_mode": {
    "name": "ipython",
    "version": 3
   },
   "file_extension": ".py",
   "mimetype": "text/x-python",
   "name": "python",
   "nbconvert_exporter": "python",
   "pygments_lexer": "ipython3",
   "version": "3.9.5"
  },
  "orig_nbformat": 4
 },
 "nbformat": 4,
 "nbformat_minor": 2
}
